{
 "cells": [
  {
   "cell_type": "markdown",
   "metadata": {},
   "source": [
    "# Pinecone Semantic Search for Promotion Data\n",
    "\n",
    "This notebook demonstrates how to use Pinecone for high-performance semantic search on promotion data.\n",
    "We'll:\n",
    "1. Set up Pinecone connection\n",
    "2. Prepare promotion data with embeddings\n",
    "3. Store data in Pinecone index\n",
    "4. Perform semantic search to find promotion duration information"
   ]
  },
  {
   "cell_type": "markdown",
   "metadata": {},
   "source": [
    "## 1. Install Required Packages"
   ]
  },
  {
   "cell_type": "code",
   "execution_count": null,
   "metadata": {},
   "outputs": [],
   "source": [
    "# Install required packages\n",
    "!pip install pinecone-client openai python-dotenv"
   ]
  },
  {
   "cell_type": "markdown",
   "metadata": {},
   "source": [
    "## 2. Import Libraries and Setup"
   ]
  },
  {
   "cell_type": "code",
   "execution_count": 1,
   "metadata": {},
   "outputs": [
    {
     "data": {
      "text/plain": [
       "False"
      ]
     },
     "execution_count": 1,
     "metadata": {},
     "output_type": "execute_result"
    }
   ],
   "source": [
    "import os\n",
    "import json\n",
    "from datetime import datetime, timedelta\n",
    "from pinecone import Pinecone, ServerlessSpec\n",
    "from openai import OpenAI\n",
    "from dotenv import load_dotenv\n",
    "\n",
    "# Load environment variables\n",
    "load_dotenv()"
   ]
  },
  {
   "cell_type": "markdown",
   "metadata": {},
   "source": [
    "## 3. Configure API Keys\n",
    "\n",
    "**Important:** Create a `.env` file in your project directory with your API keys:\n",
    "\n",
    "```\n",
    "PINECONE_API_KEY=your_pinecone_api_key_here\n",
    "OPENAI_API_KEY=your_openai_api_key_here\n",
    "```\n",
    "\n",
    "Get your Pinecone API key from: https://app.pinecone.io/\n",
    "Get your OpenAI API key from: https://platform.openai.com/api-keys"
   ]
  },
  {
   "cell_type": "code",
   "execution_count": 3,
   "metadata": {},
   "outputs": [
    {
     "ename": "OpenAIError",
     "evalue": "The api_key client option must be set either by passing api_key to the client or by setting the OPENAI_API_KEY environment variable",
     "output_type": "error",
     "traceback": [
      "\u001b[31m---------------------------------------------------------------------------\u001b[39m",
      "\u001b[31mOpenAIError\u001b[39m                               Traceback (most recent call last)",
      "\u001b[36mCell\u001b[39m\u001b[36m \u001b[39m\u001b[32mIn[3]\u001b[39m\u001b[32m, line 3\u001b[39m\n\u001b[32m      1\u001b[39m \u001b[38;5;66;03m# Initialize clients\u001b[39;00m\n\u001b[32m      2\u001b[39m \u001b[38;5;66;03m# pc = Pinecone(api_key=os.getenv(\"PINECONE_API_KEY\"))\u001b[39;00m\n\u001b[32m----> \u001b[39m\u001b[32m3\u001b[39m openai_client = OpenAI(api_key=os.getenv(\u001b[33m\"\u001b[39m\u001b[33mOPENAI_API_KEY\u001b[39m\u001b[33m\"\u001b[39m))\n\u001b[32m      5\u001b[39m \u001b[38;5;66;03m# Configuration\u001b[39;00m\n\u001b[32m      6\u001b[39m index_name = \u001b[33m\"\u001b[39m\u001b[33mpromotion-search\u001b[39m\u001b[33m\"\u001b[39m\n",
      "\u001b[36mFile \u001b[39m\u001b[32m~\\anaconda3\\envs\\newChatbot\\Lib\\site-packages\\openai\\_client.py:114\u001b[39m, in \u001b[36mOpenAI.__init__\u001b[39m\u001b[34m(self, api_key, organization, project, base_url, websocket_base_url, timeout, max_retries, default_headers, default_query, http_client, _strict_response_validation)\u001b[39m\n\u001b[32m    112\u001b[39m     api_key = os.environ.get(\u001b[33m\"\u001b[39m\u001b[33mOPENAI_API_KEY\u001b[39m\u001b[33m\"\u001b[39m)\n\u001b[32m    113\u001b[39m \u001b[38;5;28;01mif\u001b[39;00m api_key \u001b[38;5;129;01mis\u001b[39;00m \u001b[38;5;28;01mNone\u001b[39;00m:\n\u001b[32m--> \u001b[39m\u001b[32m114\u001b[39m     \u001b[38;5;28;01mraise\u001b[39;00m OpenAIError(\n\u001b[32m    115\u001b[39m         \u001b[33m\"\u001b[39m\u001b[33mThe api_key client option must be set either by passing api_key to the client or by setting the OPENAI_API_KEY environment variable\u001b[39m\u001b[33m\"\u001b[39m\n\u001b[32m    116\u001b[39m     )\n\u001b[32m    117\u001b[39m \u001b[38;5;28mself\u001b[39m.api_key = api_key\n\u001b[32m    119\u001b[39m \u001b[38;5;28;01mif\u001b[39;00m organization \u001b[38;5;129;01mis\u001b[39;00m \u001b[38;5;28;01mNone\u001b[39;00m:\n",
      "\u001b[31mOpenAIError\u001b[39m: The api_key client option must be set either by passing api_key to the client or by setting the OPENAI_API_KEY environment variable"
     ]
    }
   ],
   "source": [
    "# Initialize clients\n",
    "pc = Pinecone(api_key=os.getenv(\"PINECONE_API_KEY\"))\n",
    "openai_client = OpenAI(api_key=os.getenv(\"OPENAI_API_KEY\"))\n",
    "\n",
    "# Configuration\n",
    "index_name = \"promotion-search\"\n",
    "dimension = 1536  # OpenAI text-embedding-ada-002 dimension\n",
    "metric = \"cosine\""
   ]
  },
  {
   "cell_type": "markdown",
   "metadata": {},
   "source": [
    "## 4. Define Promotion Records\n",
    "\n",
    "This is your promotion data that we'll use for semantic search."
   ]
  },
  {
   "cell_type": "code",
   "execution_count": null,
   "metadata": {},
   "outputs": [],
   "source": [
    "records = [\n",
    "    {\n",
    "        \"_id\": \"rec1\",\n",
    "        \"title\": \"Exp X\",\n",
    "        \"type\": \"Simple Promotion\",\n",
    "        \"start_date\": \"2025-06-18\",\n",
    "        \"end_date\": \"2025-06-30\",\n",
    "        \"items\": [\n",
    "            {\n",
    "                \"promotion_id\": \"PROMO437\",\n",
    "                \"component_id\": \"COMP437\",\n",
    "                \"item_id\": \"ITEM001\",\n",
    "                \"discount_type\": \"% Off\",\n",
    "                \"discount_value\": \"30\"\n",
    "            },\n",
    "            {\n",
    "                \"promotion_id\": \"PROMO437\",\n",
    "                \"component_id\": \"COMP437\",\n",
    "                \"item_id\": \"ITEM021\",\n",
    "                \"discount_type\": \"% Off\",\n",
    "                \"discount_value\": \"30\"\n",
    "            },\n",
    "            {\n",
    "                \"promotion_id\": \"PROMO437\",\n",
    "                \"component_id\": \"COMP437\",\n",
    "                \"item_id\": \"ITEM041\",\n",
    "                \"discount_type\": \"% Off\",\n",
    "                \"discount_value\": \"30\"\n",
    "            }\n",
    "        ]\n",
    "    }\n",
    "]\n",
    "\n",
    "print(f\"Loaded {len(records)} promotion record(s)\")\n",
    "print(json.dumps(records[0], indent=2))"
   ]
  },
  {
   "cell_type": "markdown",
   "metadata": {},
   "source": [
    "## 5. Helper Functions"
   ]
  },
  {
   "cell_type": "code",
   "execution_count": null,
   "metadata": {},
   "outputs": [],
   "source": [
    "def get_embedding(text):\n",
    "    \"\"\"Generate embedding using OpenAI's text-embedding-ada-002 model\"\"\"\n",
    "    response = openai_client.embeddings.create(\n",
    "        model=\"text-embedding-ada-002\",\n",
    "        input=text\n",
    "    )\n",
    "    return response.data[0].embedding\n",
    "\n",
    "def calculate_duration(start_date, end_date):\n",
    "    \"\"\"Calculate duration between two dates\"\"\"\n",
    "    start = datetime.strptime(start_date, \"%Y-%m-%d\")\n",
    "    end = datetime.strptime(end_date, \"%Y-%m-%d\")\n",
    "    duration = end - start\n",
    "    return duration.days\n",
    "\n",
    "def prepare_text_for_embedding(record):\n",
    "    \"\"\"Convert promotion record to searchable text\"\"\"\n",
    "    # Calculate duration\n",
    "    duration_days = calculate_duration(record['start_date'], record['end_date'])\n",
    "    \n",
    "    # Create comprehensive text representation\n",
    "    text_parts = [\n",
    "        f\"Promotion: {record['title']}\",\n",
    "        f\"Type: {record['type']}\",\n",
    "        f\"Start date: {record['start_date']}\",\n",
    "        f\"End date: {record['end_date']}\",\n",
    "        f\"Duration: {duration_days} days\",\n",
    "        f\"Period: from {record['start_date']} to {record['end_date']}\"\n",
    "    ]\n",
    "    \n",
    "    # Add item details\n",
    "    for item in record['items']:\n",
    "        text_parts.append(\n",
    "            f\"Item {item['item_id']}: {item['discount_value']}{item['discount_type']} discount\"\n",
    "        )\n",
    "    \n",
    "    return \" \".join(text_parts)\n",
    "\n",
    "# Test the function\n",
    "sample_text = prepare_text_for_embedding(records[0])\n",
    "print(\"Sample text for embedding:\")\n",
    "print(sample_text)"
   ]
  },
  {
   "cell_type": "markdown",
   "metadata": {},
   "source": [
    "## 6. Create Pinecone Index"
   ]
  },
  {
   "cell_type": "code",
   "execution_count": null,
   "metadata": {},
   "outputs": [],
   "source": [
    "# Check if index exists and create if not\n",
    "existing_indexes = [index_info[\"name\"] for index_info in pc.list_indexes()]\n",
    "\n",
    "if index_name not in existing_indexes:\n",
    "    pc.create_index(\n",
    "        name=index_name,\n",
    "        dimension=dimension,\n",
    "        metric=metric,\n",
    "        spec=ServerlessSpec(\n",
    "            cloud=\"aws\",\n",
    "            region=\"us-east-1\"\n",
    "        )\n",
    "    )\n",
    "    print(f\"Created new index: {index_name}\")\n",
    "else:\n",
    "    print(f\"Index {index_name} already exists\")\n",
    "\n",
    "# Connect to the index\n",
    "index = pc.Index(index_name)\n",
    "print(f\"Connected to index: {index_name}\")\n",
    "print(f\"Index stats: {index.describe_index_stats()}\")"
   ]
  },
  {
   "cell_type": "markdown",
   "metadata": {},
   "source": [
    "## 7. Prepare and Upload Data to Pinecone"
   ]
  },
  {
   "cell_type": "code",
   "execution_count": null,
   "metadata": {},
   "outputs": [],
   "source": [
    "# Prepare vectors for upsert\n",
    "vectors_to_upsert = []\n",
    "\n",
    "for record in records:\n",
    "    # Prepare text for embedding\n",
    "    text_content = prepare_text_for_embedding(record)\n",
    "    \n",
    "    # Generate embedding\n",
    "    print(f\"Generating embedding for record {record['_id']}...\")\n",
    "    embedding = get_embedding(text_content)\n",
    "    \n",
    "    # Calculate duration for metadata\n",
    "    duration_days = calculate_duration(record['start_date'], record['end_date'])\n",
    "    \n",
    "    # Prepare metadata\n",
    "    metadata = {\n",
    "        \"title\": record[\"title\"],\n",
    "        \"type\": record[\"type\"],\n",
    "        \"start_date\": record[\"start_date\"],\n",
    "        \"end_date\": record[\"end_date\"],\n",
    "        \"duration_days\": duration_days,\n",
    "        \"text_content\": text_content,\n",
    "        \"num_items\": len(record[\"items\"]),\n",
    "        \"promotion_ids\": list(set([item[\"promotion_id\"] for item in record[\"items\"]]))\n",
    "    }\n",
    "    \n",
    "    # Add to vectors list\n",
    "    vectors_to_upsert.append({\n",
    "        \"id\": record[\"_id\"],\n",
    "        \"values\": embedding,\n",
    "        \"metadata\": metadata\n",
    "    })\n",
    "\n",
    "# Upsert vectors to Pinecone\n",
    "print(f\"\\nUpserting {len(vectors_to_upsert)} vectors to Pinecone...\")\n",
    "upsert_response = index.upsert(vectors=vectors_to_upsert)\n",
    "print(f\"Upserted vectors: {upsert_response['upserted_count']}\")"
   ]
  },
  {
   "cell_type": "markdown",
   "metadata": {},
   "source": [
    "## 8. Semantic Search Function"
   ]
  },
  {
   "cell_type": "code",
   "execution_count": null,
   "metadata": {},
   "outputs": [],
   "source": [
    "def semantic_search(query, top_k=5):\n",
    "    \"\"\"Perform semantic search on the promotion data\"\"\"\n",
    "    \n",
    "    # Generate embedding for the query\n",
    "    print(f\"Searching for: '{query}'\")\n",
    "    query_embedding = get_embedding(query)\n",
    "    \n",
    "    # Search in Pinecone\n",
    "    search_results = index.query(\n",
    "        vector=query_embedding,\n",
    "        top_k=top_k,\n",
    "        include_metadata=True\n",
    "    )\n",
    "    \n",
    "    return search_results\n",
    "\n",
    "def display_search_results(results, query):\n",
    "    \"\"\"Display search results in a readable format\"\"\"\n",
    "    print(f\"\\n🔍 Search Results for: '{query}'\")\n",
    "    print(\"=\" * 50)\n",
    "    \n",
    "    if not results['matches']:\n",
    "        print(\"No matches found.\")\n",
    "        return\n",
    "    \n",
    "    for i, match in enumerate(results['matches'], 1):\n",
    "        metadata = match['metadata']\n",
    "        score = match['score']\n",
    "        \n",
    "        print(f\"\\n📋 Result {i} (Similarity: {score:.4f})\")\n",
    "        print(f\"   Title: {metadata['title']}\")\n",
    "        print(f\"   Type: {metadata['type']}\")\n",
    "        print(f\"   Duration: {metadata['duration_days']} days\")\n",
    "        print(f\"   Period: {metadata['start_date']} to {metadata['end_date']}\")\n",
    "        print(f\"   Items: {metadata['num_items']} items\")\n",
    "        print(f\"   Promotion IDs: {', '.join(metadata['promotion_ids'])}\")\n",
    "        \n",
    "        # Show relevant text snippet\n",
    "        text_content = metadata.get('text_content', '')\n",
    "        if len(text_content) > 150:\n",
    "            text_content = text_content[:150] + \"...\"\n",
    "        print(f\"   Content: {text_content}\")"
   ]
  },
  {
   "cell_type": "markdown",
   "metadata": {},
   "source": [
    "## 9. Perform Semantic Search"
   ]
  },
  {
   "cell_type": "code",
   "execution_count": null,
   "metadata": {},
   "outputs": [],
   "source": [
    "# Main query from your requirements\n",
    "search_query = \"What is the duration of the promotion?\"\n",
    "\n",
    "# Perform the search\n",
    "results = semantic_search(search_query, top_k=3)\n",
    "\n",
    "# Display results\n",
    "display_search_results(results, search_query)"
   ]
  },
  {
   "cell_type": "markdown",
   "metadata": {},
   "source": [
    "## 10. Additional Search Examples"
   ]
  },
  {
   "cell_type": "code",
   "execution_count": null,
   "metadata": {},
   "outputs": [],
   "source": [
    "# Try different types of queries\n",
    "additional_queries = [\n",
    "    \"How long does the promotion run?\",\n",
    "    \"When does the promotion end?\",\n",
    "    \"Show me discount information\",\n",
    "    \"What items are included in PROMO437?\"\n",
    "]\n",
    "\n",
    "for query in additional_queries:\n",
    "    results = semantic_search(query, top_k=1)\n",
    "    display_search_results(results, query)\n",
    "    print(\"\\n\" + \"-\"*50 + \"\\n\")"
   ]
  },
  {
   "cell_type": "markdown",
   "metadata": {},
   "source": [
    "## 11. Advanced Analysis and Insights"
   ]
  },
  {
   "cell_type": "code",
   "execution_count": null,
   "metadata": {},
   "outputs": [],
   "source": [
    "def analyze_promotion_duration(record):\n",
    "    \"\"\"Analyze and provide detailed duration information\"\"\"\n",
    "    start_date = datetime.strptime(record['start_date'], \"%Y-%m-%d\")\n",
    "    end_date = datetime.strptime(record['end_date'], \"%Y-%m-%d\")\n",
    "    duration = end_date - start_date\n",
    "    \n",
    "    print(f\"\\n📊 Promotion Duration Analysis for '{record['title']}'\")\n",
    "    print(f\"   Start: {start_date.strftime('%A, %B %d, %Y')}\")\n",
    "    print(f\"   End: {end_date.strftime('%A, %B %d, %Y')}\")\n",
    "    print(f\"   Total Duration: {duration.days} days\")\n",
    "    print(f\"   Duration in weeks: {duration.days / 7:.1f} weeks\")\n",
    "    \n",
    "    # Check if promotion is currently active (assuming current date)\n",
    "    today = datetime.now()\n",
    "    if start_date <= today <= end_date:\n",
    "        days_remaining = (end_date - today).days\n",
    "        print(f\"   Status: ACTIVE ({days_remaining} days remaining)\")\n",
    "    elif today < start_date:\n",
    "        days_until_start = (start_date - today).days\n",
    "        print(f\"   Status: UPCOMING (starts in {days_until_start} days)\")\n",
    "    else:\n",
    "        days_since_end = (today - end_date).days\n",
    "        print(f\"   Status: EXPIRED ({days_since_end} days ago)\")\n",
    "\n",
    "# Analyze the promotion\n",
    "analyze_promotion_duration(records[0])"
   ]
  },
  {
   "cell_type": "markdown",
   "metadata": {},
   "source": [
    "## 12. Enhanced Query Processing with Context"
   ]
  },
  {
   "cell_type": "code",
   "execution_count": null,
   "metadata": {},
   "outputs": [],
   "source": [
    "def enhanced_search_with_context(query, top_k=3):\n",
    "    \"\"\"Enhanced search that provides contextual answers\"\"\"\n",
    "    \n",
    "    # Perform semantic search\n",
    "    results = semantic_search(query, top_k)\n",
    "    \n",
    "    if not results['matches']:\n",
    "        return \"No relevant information found.\"\n",
    "    \n",
    "    # Get the best match\n",
    "    best_match = results['matches'][0]\n",
    "    metadata = best_match['metadata']\n",
    "    \n",
    "    # Generate contextual response based on query type\n",
    "    if any(word in query.lower() for word in ['duration', 'long', 'period', 'time']):\n",
    "        start_date = metadata['start_date']\n",
    "        end_date = metadata['end_date']\n",
    "        duration = metadata['duration_days']\n",
    "        \n",
    "        response = f\"\"\"The promotion '{metadata['title']}' has a duration of {duration} days.\n",
    "        \n",
    "Details:\n",
    "• Start Date: {start_date}\n",
    "• End Date: {end_date}\n",
    "• Total Duration: {duration} days ({duration/7:.1f} weeks)\n",
    "• Promotion Type: {metadata['type']}\n",
    "• Number of Items: {metadata['num_items']}\n",
    "        \"\"\"\n",
    "        \n",
    "        return response\n",
    "    \n",
    "    return f\"Found information about '{metadata['title']}': {metadata['text_content']}\"\n",
    "\n",
    "# Test the enhanced search\n",
    "enhanced_answer = enhanced_search_with_context(\"What is the duration of the promotion?\")\n",
    "print(enhanced_answer)"
   ]
  },
  {
   "cell_type": "markdown",
   "metadata": {},
   "source": [
    "## 13. Cleanup (Optional)"
   ]
  },
  {
   "cell_type": "code",
   "execution_count": null,
   "metadata": {},
   "outputs": [],
   "source": [
    "# Uncomment the lines below if you want to delete the index after testing\n",
    "# print(\"Deleting index...\")\n",
    "# pc.delete_index(index_name)\n",
    "# print(f\"Deleted index: {index_name}\")"
   ]
  },
  {
   "cell_type": "code",
   "execution_count": null,
   "metadata": {},
   "outputs": [],
   "source": []
  },
  {
   "cell_type": "code",
   "execution_count": null,
   "metadata": {},
   "outputs": [],
   "source": []
  },
  {
   "cell_type": "markdown",
   "metadata": {},
   "source": [
    "## 14. Summary and Next Steps\n",
    "\n",
    "This notebook demonstrates:\n",
    "\n",
    "1. **Data Preparation**: Converting promotion records into searchable text with duration calculations\n",
    "2. **Embeddings**: Using OpenAI's text-embedding-ada-002 to create vector representations\n",
    "3. **Indexing**: Storing vectors in Pinecone for fast similarity search\n",
    "4. **Semantic Search**: Finding relevant information based on query meaning, not just keywords\n",
    "5. **Contextual Responses**: Providing structured answers to duration-related queries\n",
    "\n",
    "### Key Features:\n",
    "- **Duration Calculation**: Automatically calculates promotion duration in days and weeks\n",
    "- **Rich Metadata**: Stores comprehensive information for filtering and analysis\n",
    "- **Flexible Queries**: Handles various ways of asking about promotion duration\n",
    "- **Status Tracking**: Shows whether promotions are active, upcoming, or expired\n",
    "\n",
    "### Next Steps:\n",
    "1. Add more promotion records to test scalability\n",
    "2. Implement filtering by date ranges or promotion types\n",
    "3. Add batch processing for large datasets\n",
    "4. Integrate with your existing promotion management system\n",
    "5. Add monitoring and analytics for search patterns"
   ]
  }
 ],
 "metadata": {
  "kernelspec": {
   "display_name": "Python (newChatbot)",
   "language": "python",
   "name": "newchatbot"
  },
  "language_info": {
   "codemirror_mode": {
    "name": "ipython",
    "version": 3
   },
   "file_extension": ".py",
   "mimetype": "text/x-python",
   "name": "python",
   "nbconvert_exporter": "python",
   "pygments_lexer": "ipython3",
   "version": "3.12.9"
  }
 },
 "nbformat": 4,
 "nbformat_minor": 4
}
